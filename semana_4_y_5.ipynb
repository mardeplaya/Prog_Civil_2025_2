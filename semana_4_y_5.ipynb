{
  "nbformat": 4,
  "nbformat_minor": 0,
  "metadata": {
    "colab": {
      "provenance": [],
      "authorship_tag": "ABX9TyPl6OhehTi2nA3WJ2KhLsWd",
      "include_colab_link": true
    },
    "kernelspec": {
      "name": "python3",
      "display_name": "Python 3"
    },
    "language_info": {
      "name": "python"
    }
  },
  "cells": [
    {
      "cell_type": "markdown",
      "metadata": {
        "id": "view-in-github",
        "colab_type": "text"
      },
      "source": [
        "<a href=\"https://colab.research.google.com/github/mardeplaya/Prog_Civil_2025_2/blob/main/semana_4_y_5.ipynb\" target=\"_parent\"><img src=\"https://colab.research.google.com/assets/colab-badge.svg\" alt=\"Open In Colab\"/></a>"
      ]
    },
    {
      "cell_type": "markdown",
      "source": [
        "#  Situación de Interés en Ingeniería Civil :\n",
        " Un ingeniero estructural necesita calcular el peso de\n",
        "diferentes elementos de una construcción (vigas, columnas). El programa debe tener una base de datos\n",
        "con las densidades de materiales comunes (acero, concreto, madera) y, a partir del tipo de material y\n",
        "el volumen del elemento, debe calcular su peso total.\n",
        "\n",
        " Caso de Ingeniería Civil: Calculadora de Peso Estructural (Diccionarios y Funciones)\n",
        "• Paso a Paso del Código:\n",
        "1. Crear un diccionario que funcione como una base de datos de densidades. La clave será el\n",
        "nombre del material y el valor será su densidad en kg/m³.\n",
        "2. Crear una función calcular_peso que reciba el diccionario de densidades, el nombre del material\n",
        "y su volumen.\n",
        "3. Dentro de la función, buscar la densidad del material en el diccionario.\n",
        "4. Si el material existe, calcular y devolver el peso (densidad * volumen). Si no, devolver un mensaje\n",
        "de error o None.\n",
        "5. En el programa principal, pedir al usuario el tipo de material y las dimensiones del elemento para\n",
        "calcular su volumen.\n",
        "6. Llamar a la función calcular_peso y mostrar el resultado.\n"
      ],
      "metadata": {
        "id": "4iDYltkQTLwD"
      }
    },
    {
      "cell_type": "code",
      "source": [
        "# 1. Crear un diccionario con densidades de materiales\n",
        "densidades_materiales = {\n",
        "    \"acero\": 7850,  # kg/m³\n",
        "    \"concreto\": 2400, # kg/m³\n",
        "    \"madera\": 700    # kg/m³ (valor promedio, varía según el tipo de madera)\n",
        "}\n",
        "\n",
        "# 2. Crear una función para calcular el peso\n",
        "def calcular_peso(diccionario_densidades, nombre_material, volumen):\n",
        "    # 3. Dentro de la función, buscar la densidad del material\n",
        "    if nombre_material in diccionario_densidades:\n",
        "        densidad = diccionario_densidades[nombre_material]\n",
        "        # 4. Si el material existe, calcular y devolver el peso\n",
        "        peso = densidad * volumen\n",
        "        return peso\n",
        "    else:\n",
        "        # Si no, devolver un mensaje de error\n",
        "        return None\n",
        "\n",
        "# 5. En el programa principal, pedir al usuario el tipo de material y las dimensiones\n",
        "print(\"Materiales disponibles:\", list(densidades_materiales.keys()))\n",
        "material_elemento = input(\"Introduce el tipo de material del elemento: \").lower()\n",
        "\n",
        "# Simplificamos la entrada de volumen para este ejemplo.\n",
        "# En un caso real, pedirías dimensiones (largo, ancho, alto) y calcularías el volumen.\n",
        "try:\n",
        "    volumen_elemento = float(input(\"Introduce el volumen del elemento en m³: \"))\n",
        "\n",
        "    # 6. Llamar a la función calcular_peso y mostrar el resultado\n",
        "    peso_calculado = calcular_peso(densidades_materiales, material_elemento, volumen_elemento)\n",
        "\n",
        "    if peso_calculado is not None:\n",
        "        print(f\"El peso del elemento de {material_elemento} con un volumen de {volumen_elemento} m³ es: {peso_calculado:.2f} kg\")\n",
        "    else:\n",
        "        print(f\"Error: El material '{material_elemento}' no se encuentra en la base de datos.\")\n",
        "\n",
        "except ValueError:\n",
        "    print(\"Error: Por favor, introduce un valor numérico válido para el volumen.\")"
      ],
      "metadata": {
        "colab": {
          "base_uri": "https://localhost:8080/"
        },
        "id": "alw3vvcaTW3a",
        "outputId": "424a22ff-3ea7-4ee6-c49e-f3d813067f44"
      },
      "execution_count": 3,
      "outputs": [
        {
          "output_type": "stream",
          "name": "stdout",
          "text": [
            "Materiales disponibles: ['acero', 'concreto', 'madera']\n",
            "Introduce el tipo de material del elemento: concreto\n",
            "Introduce el volumen del elemento en m³: 6\n",
            "El peso del elemento de concreto con un volumen de 6.0 m³ es: 14400.00 kg\n"
          ]
        }
      ]
    }
  ]
}