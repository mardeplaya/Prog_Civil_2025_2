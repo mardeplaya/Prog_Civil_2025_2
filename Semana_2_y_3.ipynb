{
  "nbformat": 4,
  "nbformat_minor": 0,
  "metadata": {
    "colab": {
      "provenance": [],
      "authorship_tag": "ABX9TyO0os/ecQx0afeIGZZu0rZH",
      "include_colab_link": true
    },
    "kernelspec": {
      "name": "python3",
      "display_name": "Python 3"
    },
    "language_info": {
      "name": "python"
    }
  },
  "cells": [
    {
      "cell_type": "markdown",
      "metadata": {
        "id": "view-in-github",
        "colab_type": "text"
      },
      "source": [
        "<a href=\"https://colab.research.google.com/github/mardeplaya/Prog_Civil_2025_2/blob/main/Semana_2_y_3.ipynb\" target=\"_parent\"><img src=\"https://colab.research.google.com/assets/colab-badge.svg\" alt=\"Open In Colab\"/></a>"
      ]
    },
    {
      "cell_type": "markdown",
      "source": [
        "# Situacion 1: Clasificador de pH del Suelo\n",
        "\n",
        "El pH del suelo es un factor crítico para la absorción de nutrientes por parte de las plantas. Desarrollarás un programa que recibe un valor de pH e informa al agricultor si el suelo es ácido, neutro o alcalino, ofreciendo una recomendación general."
      ],
      "metadata": {
        "id": "c_FhYjCy_MWI"
      }
    },
    {
      "cell_type": "code",
      "source": [
        "# Explicar al usuario que el programa clasifica el pH del suelo.\n",
        "print(\"Este programa clasifica el pH del suelo.\")\n",
        "\n",
        "# Pedir al usuario que ingrese el valor del pH medido (puede ser decimal)\n",
        "# Guardar el valor en una variable\n",
        "pH = float(input(\"Ingrese el valor del pH medido: \"))\n",
        "\n",
        "# Utilizar una estructura \"if\" para la primera condición: si el pH es menor que 7.0\n",
        "# Dentro del \"if\", mostrar un mensaje indicando que el suelo es \"Acido\" y recomendar el uso de cal agricola\n",
        "if pH < 7:\n",
        "    print(\"El suelo es ácido.\")\n",
        "    print(\"recomendar el uso de cal agricola\")\n",
        "\n",
        "# Utilizar una estructura \"elif\" para la segunda condicion: si el pH es mayor que 7.\n",
        "elif pH > 7:\n",
        "    # Dentro del \"elif\", mostrar un mensaje indicando que el suelo es \"Alcalino\" y recomendar el uso de fertilizantes\n",
        "    print(\"El suelo es alcalino.\")\n",
        "    print(\"recomendar el uso de fertilizantes.\")\n",
        "else:\n",
        "    # Dentro del \"else\", mostrar un mensaje indicando que el suelo es \"neutro\" y que es ideal para la mayoria de los cultivos.\n",
        "    print(\"El suelo es neutro.\")\n",
        "    print(\"Es ideal para la mayoria de los cultivos.\")\n",
        "\n"
      ],
      "metadata": {
        "collapsed": true,
        "id": "pMnJHLmSAdk_"
      },
      "execution_count": null,
      "outputs": []
    }
  ]
}